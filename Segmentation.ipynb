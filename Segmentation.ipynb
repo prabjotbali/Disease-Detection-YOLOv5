{
  "nbformat": 4,
  "nbformat_minor": 0,
  "metadata": {
    "colab": {
      "provenance": [],
      "mount_file_id": "1vKsBod_Uo9og4_ScpqQPPV3KYrEtMxYn",
      "authorship_tag": "ABX9TyMTjqISYFzbvgyO19ujjTu+",
      "include_colab_link": true
    },
    "kernelspec": {
      "name": "python3",
      "display_name": "Python 3"
    },
    "language_info": {
      "name": "python"
    },
    "gpuClass": "standard",
    "accelerator": "GPU"
  },
  "cells": [
    {
      "cell_type": "markdown",
      "metadata": {
        "id": "view-in-github",
        "colab_type": "text"
      },
      "source": [
        "<a href=\"https://colab.research.google.com/github/prabjotbali/Disease-Detection-YOLOv5/blob/main/Segmentation.ipynb\" target=\"_parent\"><img src=\"https://colab.research.google.com/assets/colab-badge.svg\" alt=\"Open In Colab\"/></a>"
      ]
    },
    {
      "cell_type": "code",
      "execution_count": null,
      "metadata": {
        "id": "uZWIfH89EXR5",
        "colab": {
          "base_uri": "https://localhost:8080/"
        },
        "outputId": "67f2a586-6fc5-4653-f8dc-d69770eb848c"
      },
      "outputs": [
        {
          "output_type": "stream",
          "name": "stdout",
          "text": [
            "fatal: destination path 'yolov5' already exists and is not an empty directory.\n",
            "/content/yolov5\n"
          ]
        }
      ],
      "source": [
        "!git clone https://github.com/ultralytics/yolov5  # clone\n",
        "%cd yolov5\n",
        "%pip install -qr requirements.txt  # install"
      ]
    },
    {
      "cell_type": "code",
      "source": [
        "!pip install roboflow\n",
        "\n",
        "from roboflow import Roboflow\n",
        "rf = Roboflow(api_key=\"mU31sq0TNh4S1Drak4hl\")\n",
        "project = rf.workspace(\"apple-oimpi\").project(\"disease-detection-sztru\")\n",
        "dataset = project.version(1).download(\"yolov5\")"
      ],
      "metadata": {
        "id": "lPLzWXLvEho-",
        "colab": {
          "base_uri": "https://localhost:8080/"
        },
        "outputId": "3e78494d-1ceb-47ac-be7b-5ee6a37b6a62"
      },
      "execution_count": null,
      "outputs": [
        {
          "output_type": "stream",
          "name": "stdout",
          "text": [
            "Looking in indexes: https://pypi.org/simple, https://us-python.pkg.dev/colab-wheels/public/simple/\n",
            "Requirement already satisfied: roboflow in /usr/local/lib/python3.9/dist-packages (0.2.34)\n",
            "Requirement already satisfied: PyYAML>=5.3.1 in /usr/local/lib/python3.9/dist-packages (from roboflow) (6.0)\n",
            "Requirement already satisfied: six in /usr/local/lib/python3.9/dist-packages (from roboflow) (1.15.0)\n",
            "Requirement already satisfied: opencv-python>=4.1.2 in /usr/local/lib/python3.9/dist-packages (from roboflow) (4.6.0.66)\n",
            "Requirement already satisfied: python-dotenv in /usr/local/lib/python3.9/dist-packages (from roboflow) (1.0.0)\n",
            "Requirement already satisfied: requests in /usr/local/lib/python3.9/dist-packages (from roboflow) (2.25.1)\n",
            "Requirement already satisfied: tqdm>=4.41.0 in /usr/local/lib/python3.9/dist-packages (from roboflow) (4.65.0)\n",
            "Requirement already satisfied: urllib3>=1.26.6 in /usr/local/lib/python3.9/dist-packages (from roboflow) (1.26.14)\n",
            "Requirement already satisfied: wget in /usr/local/lib/python3.9/dist-packages (from roboflow) (3.2)\n",
            "Requirement already satisfied: pyparsing==2.4.7 in /usr/local/lib/python3.9/dist-packages (from roboflow) (2.4.7)\n",
            "Requirement already satisfied: certifi==2022.12.7 in /usr/local/lib/python3.9/dist-packages (from roboflow) (2022.12.7)\n",
            "Requirement already satisfied: python-dateutil in /usr/local/lib/python3.9/dist-packages (from roboflow) (2.8.2)\n",
            "Requirement already satisfied: idna==2.10 in /usr/local/lib/python3.9/dist-packages (from roboflow) (2.10)\n",
            "Requirement already satisfied: requests-toolbelt in /usr/local/lib/python3.9/dist-packages (from roboflow) (0.10.1)\n",
            "Requirement already satisfied: numpy>=1.18.5 in /usr/local/lib/python3.9/dist-packages (from roboflow) (1.22.4)\n",
            "Requirement already satisfied: Pillow>=7.1.2 in /usr/local/lib/python3.9/dist-packages (from roboflow) (8.4.0)\n",
            "Requirement already satisfied: cycler==0.10.0 in /usr/local/lib/python3.9/dist-packages (from roboflow) (0.10.0)\n",
            "Requirement already satisfied: chardet==4.0.0 in /usr/local/lib/python3.9/dist-packages (from roboflow) (4.0.0)\n",
            "Requirement already satisfied: matplotlib in /usr/local/lib/python3.9/dist-packages (from roboflow) (3.5.3)\n",
            "Requirement already satisfied: kiwisolver>=1.3.1 in /usr/local/lib/python3.9/dist-packages (from roboflow) (1.4.4)\n",
            "Requirement already satisfied: packaging>=20.0 in /usr/local/lib/python3.9/dist-packages (from matplotlib->roboflow) (23.0)\n",
            "Requirement already satisfied: fonttools>=4.22.0 in /usr/local/lib/python3.9/dist-packages (from matplotlib->roboflow) (4.39.0)\n",
            "loading Roboflow workspace...\n",
            "loading Roboflow project...\n",
            "Downloading Dataset Version Zip in Disease-Detection-1 to yolov5pytorch: 100% [38370392 / 38370392] bytes\n"
          ]
        },
        {
          "output_type": "stream",
          "name": "stderr",
          "text": [
            "Extracting Dataset Version Zip to Disease-Detection-1 in yolov5pytorch:: 100%|██████████| 774/774 [00:00<00:00, 1072.38it/s]\n"
          ]
        }
      ]
    },
    {
      "cell_type": "code",
      "source": [
        "model = !python /content/yolov5/train.py --img 320 --batch -1 --epochs 100 --data {dataset.location}/data.yaml --weights /content/yolov5/weights/yolov5x.pt --name custom"
      ],
      "metadata": {
        "id": "xaF1rPM6EpNS"
      },
      "execution_count": null,
      "outputs": []
    },
    {
      "cell_type": "code",
      "source": [
        "%cat {dataset.location}/data.yaml"
      ],
      "metadata": {
        "id": "uR0cqTzhEuvZ",
        "colab": {
          "base_uri": "https://localhost:8080/"
        },
        "outputId": "add03fb3-daba-43b4-f7b9-c80b8a2912bb"
      },
      "execution_count": null,
      "outputs": [
        {
          "output_type": "stream",
          "name": "stdout",
          "text": [
            "names:\n",
            "- Apple\n",
            "nc: 1\n",
            "roboflow:\n",
            "  license: CC BY 4.0\n",
            "  project: disease-detection-sztru\n",
            "  url: https://universe.roboflow.com/project/disease-detection-sztru/dataset/1\n",
            "  version: 1\n",
            "  workspace: project\n",
            "test: ../test/images\n",
            "train: Disease-Detection-1/train/images\n",
            "val: Disease-Detection-1/valid/images\n"
          ]
        }
      ]
    },
    {
      "cell_type": "code",
      "source": [
        "!python /content/yolov5/val.py --weights /content/yolov5/runs/train/custom/weights/best.pt --data {dataset.location}/data.yaml --img 640  --name custom"
      ],
      "metadata": {
        "id": "_JSKko80Exz7",
        "colab": {
          "base_uri": "https://localhost:8080/"
        },
        "outputId": "a7c79c32-8934-4c94-d48b-09186a310fbd"
      },
      "execution_count": null,
      "outputs": [
        {
          "output_type": "stream",
          "name": "stdout",
          "text": [
            "\u001b[34m\u001b[1mval: \u001b[0mdata=/content/yolov5/Disease-Detection-1/data.yaml, weights=['/content/yolov5/runs/train/custom/weights/best.pt'], batch_size=32, imgsz=640, conf_thres=0.001, iou_thres=0.6, max_det=300, task=val, device=, workers=8, single_cls=False, augment=False, verbose=False, save_txt=False, save_hybrid=False, save_conf=False, save_json=False, project=runs/val, name=custom, exist_ok=False, half=False, dnn=False\n",
            "YOLOv5 🚀 v7.0-120-g3e55763 Python-3.9.16 torch-1.13.1+cu116 CUDA:0 (Tesla T4, 15102MiB)\n",
            "\n",
            "Fusing layers... \n",
            "Model summary: 322 layers, 86173414 parameters, 0 gradients, 203.8 GFLOPs\n",
            "\u001b[34m\u001b[1mval: \u001b[0mScanning /content/yolov5/Disease-Detection-1/valid/labels.cache... 76 images, 0 backgrounds, 0 corrupt: 100% 76/76 [00:00<?, ?it/s]\n",
            "                 Class     Images  Instances          P          R      mAP50   mAP50-95: 100% 3/3 [00:09<00:00,  3.03s/it]\n",
            "                   all         76        630      0.825      0.868      0.917      0.686\n",
            "Speed: 0.3ms pre-process, 59.5ms inference, 5.2ms NMS per image at shape (32, 3, 640, 640)\n",
            "Results saved to \u001b[1mruns/val/custom\u001b[0m\n"
          ]
        }
      ]
    },
    {
      "cell_type": "code",
      "source": [
        "import os\n",
        "\n",
        "if os.path.exists(os.path.join(dataset.location, \"test\")):\n",
        "  split_path = os.path.join(dataset.location, \"test\", \"images\")\n",
        "else:\n",
        "  split_path = os.path.join(dataset.location, \"valid\", \"images\")\n",
        "example_image_name = os.listdir(split_path)[0]\n",
        "example_image_path = os.path.join(split_path, example_image_name)"
      ],
      "metadata": {
        "id": "tRI53J8gE5MM"
      },
      "execution_count": null,
      "outputs": []
    },
    {
      "cell_type": "code",
      "source": [
        "!python /content/yolov5/detect.py --img 640 --weights /content/yolov5/runs/train/custom/weights/best.pt --source /content/yolov5/Disease-Detection-1/test/images"
      ],
      "metadata": {
        "id": "m_HP0nu5E9e3",
        "colab": {
          "base_uri": "https://localhost:8080/"
        },
        "outputId": "78f4380e-62ee-4f04-b8f4-371276c7d85a"
      },
      "execution_count": null,
      "outputs": [
        {
          "output_type": "stream",
          "name": "stdout",
          "text": [
            "\u001b[34m\u001b[1mdetect: \u001b[0mweights=['/content/yolov5/runs/train/custom/weights/best.pt'], source=/content/yolov5/Disease-Detection-1/test/images, data=data/coco128.yaml, imgsz=[640, 640], conf_thres=0.25, iou_thres=0.45, max_det=1000, device=, view_img=False, save_txt=False, save_conf=False, save_crop=False, nosave=False, classes=None, agnostic_nms=False, augment=False, visualize=False, update=False, project=runs/detect, name=exp, exist_ok=False, line_thickness=3, hide_labels=False, hide_conf=False, half=False, dnn=False, vid_stride=1\n",
            "YOLOv5 🚀 v7.0-120-g3e55763 Python-3.9.16 torch-1.13.1+cu116 CUDA:0 (Tesla T4, 15102MiB)\n",
            "\n",
            "Fusing layers... \n",
            "Model summary: 322 layers, 86173414 parameters, 0 gradients, 203.8 GFLOPs\n",
            "image 1/38 /content/yolov5/Disease-Detection-1/test/images/IMG_0185_jpg.rf.e0d81820128c672977a4b61b4d696731.jpg: 640x640 23 Apples, 92.0ms\n",
            "image 2/38 /content/yolov5/Disease-Detection-1/test/images/IMG_0187_jpg.rf.2c66bd09be797aad16666c1292408e8f.jpg: 640x640 7 Apples, 65.1ms\n",
            "image 3/38 /content/yolov5/Disease-Detection-1/test/images/IMG_0196_jpg.rf.3a0cd3d127523e18d4c75f85cb74ebb1.jpg: 640x640 6 Apples, 61.3ms\n",
            "image 4/38 /content/yolov5/Disease-Detection-1/test/images/IMG_0207_jpg.rf.f59d808fd4c4b283e4d684ccfcc65905.jpg: 640x640 11 Apples, 59.5ms\n",
            "image 5/38 /content/yolov5/Disease-Detection-1/test/images/IMG_0222_jpg.rf.82d0cc74e0fef948086399a2f49da5f6.jpg: 640x640 6 Apples, 53.5ms\n",
            "image 6/38 /content/yolov5/Disease-Detection-1/test/images/IMG_0234_jpg.rf.65b37f780f03bb29f2ca3e4e3153f724.jpg: 640x640 12 Apples, 53.9ms\n",
            "image 7/38 /content/yolov5/Disease-Detection-1/test/images/IMG_0235_jpg.rf.06f99e3a5ec8ea10adecb7b864ea0c77.jpg: 640x640 11 Apples, 54.0ms\n",
            "image 8/38 /content/yolov5/Disease-Detection-1/test/images/IMG_0237_jpg.rf.bcdce034b71eb5107f65ede35952864e.jpg: 640x640 10 Apples, 52.8ms\n",
            "image 9/38 /content/yolov5/Disease-Detection-1/test/images/IMG_0239_jpg.rf.9437e1945741b1e9e8649dcdfaa986cc.jpg: 640x640 5 Apples, 52.8ms\n",
            "image 10/38 /content/yolov5/Disease-Detection-1/test/images/IMG_0244_jpg.rf.f4a14f4e4f2f53c833dc1e3778751056.jpg: 640x640 8 Apples, 54.2ms\n",
            "image 11/38 /content/yolov5/Disease-Detection-1/test/images/IMG_0252_jpg.rf.44d274ebbc05b9c528a315deaa32abcd.jpg: 640x640 6 Apples, 53.8ms\n",
            "image 12/38 /content/yolov5/Disease-Detection-1/test/images/IMG_0307_jpg.rf.8fffe50477fdaa5ec3fe6f04a5c3a827.jpg: 640x640 2 Apples, 53.1ms\n",
            "image 13/38 /content/yolov5/Disease-Detection-1/test/images/IMG_0308_jpg.rf.66fd4583af77c9055c5c525a5a2c2373.jpg: 640x640 5 Apples, 52.9ms\n",
            "image 14/38 /content/yolov5/Disease-Detection-1/test/images/IMG_0310_jpg.rf.efca642442ff619b0376cb7687fc35cb.jpg: 640x640 6 Apples, 54.3ms\n",
            "image 15/38 /content/yolov5/Disease-Detection-1/test/images/IMG_0312_jpg.rf.dc42dfc71fad3b919113252912c6706d.jpg: 640x640 2 Apples, 53.3ms\n",
            "image 16/38 /content/yolov5/Disease-Detection-1/test/images/IMG_0318_jpg.rf.9d618a7694e3f3c7cc96cf4476e26813.jpg: 640x640 7 Apples, 54.2ms\n",
            "image 17/38 /content/yolov5/Disease-Detection-1/test/images/IMG_0319_jpg.rf.34dbd59612cc2b018656c934fbb57f7e.jpg: 640x640 6 Apples, 53.8ms\n",
            "image 18/38 /content/yolov5/Disease-Detection-1/test/images/IMG_0328_jpg.rf.9150909921dca85dd2a2b2582db9f592.jpg: 640x640 4 Apples, 55.1ms\n",
            "image 19/38 /content/yolov5/Disease-Detection-1/test/images/IMG_0349_jpg.rf.bc6087203321b5651444b3e9f42a6082.jpg: 640x640 43 Apples, 53.1ms\n",
            "image 20/38 /content/yolov5/Disease-Detection-1/test/images/IMG_0353_jpg.rf.b0af7b4819f2bf5472719f8e403c704c.jpg: 640x640 9 Apples, 50.6ms\n",
            "image 21/38 /content/yolov5/Disease-Detection-1/test/images/IMG_0354_jpg.rf.a68cf843cbedc5444cd3e7929d8540cc.jpg: 640x640 3 Apples, 54.0ms\n",
            "image 22/38 /content/yolov5/Disease-Detection-1/test/images/IMG_0369_jpg.rf.0e7bcab2d13a3d6c256581618c7edbb4.jpg: 640x640 34 Apples, 54.2ms\n",
            "image 23/38 /content/yolov5/Disease-Detection-1/test/images/IMG_0376_jpg.rf.980cc9be7b94c78301e73174be229191.jpg: 640x640 6 Apples, 51.0ms\n",
            "image 24/38 /content/yolov5/Disease-Detection-1/test/images/IMG_0508_jpg.rf.133fbbfd76218bf35161967cacafa64b.jpg: 640x640 2 Apples, 55.3ms\n",
            "image 25/38 /content/yolov5/Disease-Detection-1/test/images/IMG_0516_jpg.rf.02736ecf50d279925c33ef17ffb4c4bf.jpg: 640x640 13 Apples, 53.6ms\n",
            "image 26/38 /content/yolov5/Disease-Detection-1/test/images/IMG_0540_jpg.rf.6b9fdc1ed69275f1b2d23f43ed54ea57.jpg: 640x640 4 Apples, 54.7ms\n",
            "image 27/38 /content/yolov5/Disease-Detection-1/test/images/IMG_0541_jpg.rf.ffd5d8592af3aa584ae740dbf55553ab.jpg: 640x640 3 Apples, 53.9ms\n",
            "image 28/38 /content/yolov5/Disease-Detection-1/test/images/IMG_0590_jpg.rf.679910700e460c5691640dad788ea59f.jpg: 640x640 5 Apples, 54.2ms\n",
            "image 29/38 /content/yolov5/Disease-Detection-1/test/images/IMG_0592_jpg.rf.e641ea17e80f95039d4541179a98eb7f.jpg: 640x640 4 Apples, 54.9ms\n",
            "image 30/38 /content/yolov5/Disease-Detection-1/test/images/IMG_0606_jpg.rf.f26ef58d467fbd860aa122bc3fdcf392.jpg: 640x640 7 Apples, 54.1ms\n",
            "image 31/38 /content/yolov5/Disease-Detection-1/test/images/IMG_0608_jpg.rf.96b71907e6d070f6f3a6211d83de4394.jpg: 640x640 10 Apples, 54.7ms\n",
            "image 32/38 /content/yolov5/Disease-Detection-1/test/images/IMG_0633_jpg.rf.e4d64f00cb970b9521316e6fe7890cdf.jpg: 640x640 8 Apples, 52.7ms\n",
            "image 33/38 /content/yolov5/Disease-Detection-1/test/images/IMG_0641_jpg.rf.3ffe0362a69b2bb271ac6de17eb0fd96.jpg: 640x640 22 Apples, 53.9ms\n",
            "image 34/38 /content/yolov5/Disease-Detection-1/test/images/IMG_0654_jpg.rf.cac0d0d56b94bbe07462e439af5ed194.jpg: 640x640 42 Apples, 51.1ms\n",
            "image 35/38 /content/yolov5/Disease-Detection-1/test/images/IMG_0659_jpg.rf.a48c2ca6d6ce840bf3432bc82544c459.jpg: 640x640 8 Apples, 51.6ms\n",
            "image 36/38 /content/yolov5/Disease-Detection-1/test/images/IMG_0670_jpg.rf.16168ec2bc5aec24ec8b715c46df034b.jpg: 640x640 34 Apples, 53.8ms\n",
            "image 37/38 /content/yolov5/Disease-Detection-1/test/images/IMG_0678_jpg.rf.b73b666a7a0bd3568d929128ff66a1d6.jpg: 640x640 16 Apples, 52.6ms\n",
            "image 38/38 /content/yolov5/Disease-Detection-1/test/images/IMG_0692_jpg.rf.37a6ae84ed1dcfbc62cc50121839e00e.jpg: 640x640 9 Apples, 53.5ms\n",
            "Speed: 0.5ms pre-process, 55.2ms inference, 1.2ms NMS per image at shape (1, 3, 640, 640)\n",
            "Results saved to \u001b[1mruns/detect/exp\u001b[0m\n"
          ]
        }
      ]
    },
    {
      "cell_type": "code",
      "source": [
        "import joblib"
      ],
      "metadata": {
        "id": "XszD2UJQFAi6"
      },
      "execution_count": 1,
      "outputs": []
    },
    {
      "cell_type": "code",
      "source": [
        "model"
      ],
      "metadata": {
        "id": "lygmsBsDsKdN",
        "outputId": "cd1c91cd-64a9-45b4-8e05-5761a88aaffe",
        "colab": {
          "base_uri": "https://localhost:8080/",
          "height": 165
        }
      },
      "execution_count": null,
      "outputs": [
        {
          "output_type": "error",
          "ename": "NameError",
          "evalue": "ignored",
          "traceback": [
            "\u001b[0;31m---------------------------------------------------------------------------\u001b[0m",
            "\u001b[0;31mNameError\u001b[0m                                 Traceback (most recent call last)",
            "\u001b[0;32m<ipython-input-6-1f8a688cae5d>\u001b[0m in \u001b[0;36m<cell line: 1>\u001b[0;34m()\u001b[0m\n\u001b[0;32m----> 1\u001b[0;31m \u001b[0mmodel\u001b[0m\u001b[0;34m\u001b[0m\u001b[0;34m\u001b[0m\u001b[0m\n\u001b[0m",
            "\u001b[0;31mNameError\u001b[0m: name 'model' is not defined"
          ]
        }
      ]
    },
    {
      "cell_type": "code",
      "source": [
        "joblib.dump(model,\"/content/drive/MyDrive/Saved Model/Segmentation_joblib.pkl\")"
      ],
      "metadata": {
        "id": "zLCNayloFDj6",
        "colab": {
          "base_uri": "https://localhost:8080/",
          "height": 182
        },
        "outputId": "3a2f0593-9ce3-4cca-abc9-ce75c9c0feab"
      },
      "execution_count": 2,
      "outputs": [
        {
          "output_type": "error",
          "ename": "NameError",
          "evalue": "ignored",
          "traceback": [
            "\u001b[0;31m---------------------------------------------------------------------------\u001b[0m",
            "\u001b[0;31mNameError\u001b[0m                                 Traceback (most recent call last)",
            "\u001b[0;32m<ipython-input-2-b124041e7224>\u001b[0m in \u001b[0;36m<cell line: 1>\u001b[0;34m()\u001b[0m\n\u001b[0;32m----> 1\u001b[0;31m \u001b[0mjoblib\u001b[0m\u001b[0;34m.\u001b[0m\u001b[0mdump\u001b[0m\u001b[0;34m(\u001b[0m\u001b[0mmodel\u001b[0m\u001b[0;34m,\u001b[0m\u001b[0;34m\"/content/drive/MyDrive/Saved Model/Segmentation_joblib.pkl\"\u001b[0m\u001b[0;34m)\u001b[0m\u001b[0;34m\u001b[0m\u001b[0;34m\u001b[0m\u001b[0m\n\u001b[0m",
            "\u001b[0;31mNameError\u001b[0m: name 'model' is not defined"
          ]
        }
      ]
    }
  ]
}